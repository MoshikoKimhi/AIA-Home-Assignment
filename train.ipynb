{
 "cells": [
  {
   "cell_type": "code",
   "execution_count": 59,
   "metadata": {},
   "outputs": [],
   "source": [
    "import glob\n",
    "import pandas as pd\n",
    "import numpy as np\n",
    "\n",
    "import tensorflow_datasets as tfds\n",
    "import tensorflow as tf\n",
    "from tensorflow.keras import preprocessing\n",
    "from tensorflow.keras import Sequential\n",
    "from tensorflow.keras.callbacks import EarlyStopping\n",
    "\n",
    "from sklearn.model_selection import train_test_split\n",
    "\n",
    "import matplotlib.pyplot as plt"
   ]
  },
  {
   "cell_type": "code",
   "execution_count": 45,
   "metadata": {},
   "outputs": [],
   "source": [
    "def plot_graphs(history, metric):\n",
    "    plt.plot(history.history[metric])\n",
    "    plt.plot(history.history['val_'+metric], '')\n",
    "    plt.xlabel(\"Epochs\")\n",
    "    plt.ylabel(metric)\n",
    "    plt.legend([metric, 'val_'+metric])\n",
    "    \n",
    "def split_train_and_test(data, test_size, random_state):\n",
    "    X_train, X_test, y_train, y_test = train_test_split(data['text'], data['label'], test_size=test_size, random_state=random_state)\n",
    "    return X_train, X_test, y_train, y_test"
   ]
  },
  {
   "cell_type": "code",
   "execution_count": 3,
   "metadata": {},
   "outputs": [
    {
     "name": "stderr",
     "output_type": "stream",
     "text": [
      "fatal: destination path 'AIA-Home-Assignment' already exists and is not an empty directory.\n"
     ]
    }
   ],
   "source": [
    "# Clone data - github\n",
    "!git clone https://github.com/yoav-talmi/AIA-Home-Assignment"
   ]
  },
  {
   "cell_type": "code",
   "execution_count": 46,
   "metadata": {},
   "outputs": [
    {
     "data": {
      "text/html": [
       "<div>\n",
       "<style scoped>\n",
       "    .dataframe tbody tr th:only-of-type {\n",
       "        vertical-align: middle;\n",
       "    }\n",
       "\n",
       "    .dataframe tbody tr th {\n",
       "        vertical-align: top;\n",
       "    }\n",
       "\n",
       "    .dataframe thead th {\n",
       "        text-align: right;\n",
       "    }\n",
       "</style>\n",
       "<table border=\"1\" class=\"dataframe\">\n",
       "  <thead>\n",
       "    <tr style=\"text-align: right;\">\n",
       "      <th></th>\n",
       "      <th>text</th>\n",
       "      <th>label</th>\n",
       "    </tr>\n",
       "  </thead>\n",
       "  <tbody>\n",
       "    <tr>\n",
       "      <th>0</th>\n",
       "      <td>Airport '77 starts as a brand new luxury 747 p...</td>\n",
       "      <td>0</td>\n",
       "    </tr>\n",
       "    <tr>\n",
       "      <th>1</th>\n",
       "      <td>This film lacked something I couldn't put my f...</td>\n",
       "      <td>0</td>\n",
       "    </tr>\n",
       "    <tr>\n",
       "      <th>2</th>\n",
       "      <td>Sorry everyone,,, I know this is supposed to b...</td>\n",
       "      <td>0</td>\n",
       "    </tr>\n",
       "    <tr>\n",
       "      <th>3</th>\n",
       "      <td>When I was little my parents took me along to ...</td>\n",
       "      <td>0</td>\n",
       "    </tr>\n",
       "    <tr>\n",
       "      <th>4</th>\n",
       "      <td>\"It appears that many critics find the idea of...</td>\n",
       "      <td>0</td>\n",
       "    </tr>\n",
       "  </tbody>\n",
       "</table>\n",
       "</div>"
      ],
      "text/plain": [
       "                                                text  label\n",
       "0  Airport '77 starts as a brand new luxury 747 p...      0\n",
       "1  This film lacked something I couldn't put my f...      0\n",
       "2  Sorry everyone,,, I know this is supposed to b...      0\n",
       "3  When I was little my parents took me along to ...      0\n",
       "4  \"It appears that many critics find the idea of...      0"
      ]
     },
     "execution_count": 46,
     "metadata": {},
     "output_type": "execute_result"
    }
   ],
   "source": [
    "#Load the data - need clone first\n",
    "data = [\"./AIA-Home-Assignment\\\\Movies\\\\data\\\\neg\\\\\", \"./AIA-Home-Assignment\\\\Movies\\\\data\\\\pos\\\\\"]\n",
    "df = pd.DataFrame()\n",
    "\n",
    "X_temp = []\n",
    "y_temp = []\n",
    "input_class = -1\n",
    "for path in data:\n",
    "    input_class += 1\n",
    "    for files in glob.glob(path +\"*.txt\"):\n",
    "        infile = open(files, encoding=\"utf8\")\n",
    "        X_temp.append(infile.read())\n",
    "        y_temp.append(input_class)\n",
    "        infile.close()\n",
    "\n",
    "df['text'] = X_temp\n",
    "df['label'] = y_temp\n",
    "df.head()"
   ]
  },
  {
   "cell_type": "code",
   "execution_count": 47,
   "metadata": {},
   "outputs": [],
   "source": [
    "# Delete TAGS\n",
    "df['text'] = df['text'].str.replace('<.*?>', '')"
   ]
  },
  {
   "cell_type": "code",
   "execution_count": 48,
   "metadata": {},
   "outputs": [
    {
     "name": "stdout",
     "output_type": "stream",
     "text": [
      "This film lacked something I couldn't put my finger on at first: charisma on the part of the leading actress. This inevitably translated to lack of chemistry when she shared the screen with her leading man. Even the romantic scenes came across as being merely the actors at play. It could very well have been the director who miscalculated what he needed from the actors. I just don't know.But could it have been the screenplay? Just exactly who was the chef in love with? He seemed more enamored of his culinary skills and restaurant, and ultimately of himself and his youthful exploits, than of anybody or anything else. He never convinced me he was in love with the princess.I was disappointed in this movie. But, don't forget it was nominated for an Oscar, so judge for yourself.\n"
     ]
    }
   ],
   "source": [
    "print(df['text'][1])"
   ]
  },
  {
   "cell_type": "code",
   "execution_count": 67,
   "metadata": {},
   "outputs": [
    {
     "name": "stdout",
     "output_type": "stream",
     "text": [
      "(3840,)\n"
     ]
    }
   ],
   "source": [
    "# Split to train test and validation\n",
    "X_temp, X_test, y_temp, y_test = split_train_and_test(df, 0.2, 46)\n",
    "\n",
    "X_train = X_temp[:int(len(X_temp)*0.8)]\n",
    "X_val = X_temp[int(len(X_temp)*0.8):]\n",
    "y_train = y_temp[:int(len(y_temp)*0.8)]\n",
    "y_val = y_temp[int(len(y_temp)*0.8):]"
   ]
  },
  {
   "cell_type": "code",
   "execution_count": 50,
   "metadata": {},
   "outputs": [],
   "source": [
    "# Preprocessing for data - create encoder \n",
    "vocab_size = 1000\n",
    "encoder = tf.keras.layers.experimental.preprocessing.TextVectorization(max_tokens=vocab_size)\n",
    "encoder.adapt(X_train.to_numpy())"
   ]
  },
  {
   "cell_type": "code",
   "execution_count": 51,
   "metadata": {},
   "outputs": [
    {
     "data": {
      "text/plain": [
       "array(['', '[UNK]', 'the', 'a', 'and', 'of', 'to', 'is', 'in', 'it',\n",
       "       'this', 'i', 'that', 'was', 'as', 'with', 'for', 'movie', 'but',\n",
       "       'film'], dtype='<U14')"
      ]
     },
     "execution_count": 51,
     "metadata": {},
     "output_type": "execute_result"
    }
   ],
   "source": [
    "vocab = np.array(encoder.get_vocabulary())\n",
    "vocab[:20]"
   ]
  },
  {
   "cell_type": "code",
   "execution_count": 85,
   "metadata": {},
   "outputs": [],
   "source": [
    "# Define parameters\n",
    "es = EarlyStopping(monitor='val_loss', mode='min', verbose=1, patience=50)\n",
    "opt = tf.keras.optimizers.Adam(1e-4)\n",
    "\n",
    "epochs = 10\n",
    "validation_steps = 30\n",
    "batch_size = 64"
   ]
  },
  {
   "cell_type": "code",
   "execution_count": 86,
   "metadata": {},
   "outputs": [],
   "source": [
    "# Create model\n",
    "model = tf.keras.Sequential([\n",
    "    encoder,\n",
    "    tf.keras.layers.Embedding(\n",
    "        input_dim=len(encoder.get_vocabulary()),\n",
    "        output_dim=64,\n",
    "        # Use masking to handle the variable sequence lengths\n",
    "        mask_zero=True),\n",
    "    tf.keras.layers.Bidirectional(tf.keras.layers.LSTM(64)),\n",
    "#     tf.keras.layers.Dense(64, activation='sigmoid'),\n",
    "    tf.keras.layers.Dense(1,  activation='sigmoid')\n",
    "])"
   ]
  },
  {
   "cell_type": "code",
   "execution_count": 87,
   "metadata": {},
   "outputs": [],
   "source": [
    "# Compile model\n",
    "model.compile(loss=tf.keras.losses.BinaryCrossentropy(from_logits=True),\n",
    "              optimizer=opt,\n",
    "              metrics=['accuracy'])"
   ]
  },
  {
   "cell_type": "code",
   "execution_count": 88,
   "metadata": {},
   "outputs": [
    {
     "name": "stdout",
     "output_type": "stream",
     "text": [
      "Epoch 1/10\n",
      "240/240 [==============================] - 651s 3s/step - loss: 0.6900 - accuracy: 0.5749 - val_loss: 0.6540 - val_accuracy: 0.6302\n",
      "Epoch 2/10\n",
      "240/240 [==============================] - 634s 3s/step - loss: 0.5267 - accuracy: 0.7487 - val_loss: 0.4554 - val_accuracy: 0.8036\n",
      "Epoch 3/10\n",
      "240/240 [==============================] - 620s 3s/step - loss: 0.4424 - accuracy: 0.8070 - val_loss: 0.4292 - val_accuracy: 0.8089\n",
      "Epoch 4/10\n",
      "240/240 [==============================] - 646s 3s/step - loss: 0.4148 - accuracy: 0.8238 - val_loss: 0.4213 - val_accuracy: 0.8219\n",
      "Epoch 5/10\n",
      "240/240 [==============================] - 648s 3s/step - loss: 0.3924 - accuracy: 0.8320 - val_loss: 0.4056 - val_accuracy: 0.8234\n",
      "Epoch 6/10\n",
      "240/240 [==============================] - 671s 3s/step - loss: 0.3663 - accuracy: 0.8490 - val_loss: 0.3844 - val_accuracy: 0.8417\n",
      "Epoch 7/10\n",
      "240/240 [==============================] - 634s 3s/step - loss: 0.3508 - accuracy: 0.8560 - val_loss: 0.3802 - val_accuracy: 0.8318\n",
      "Epoch 8/10\n",
      "240/240 [==============================] - 634s 3s/step - loss: 0.3424 - accuracy: 0.8585 - val_loss: 0.3945 - val_accuracy: 0.8271\n",
      "Epoch 9/10\n",
      "240/240 [==============================] - 631s 3s/step - loss: 0.3312 - accuracy: 0.8661 - val_loss: 0.3634 - val_accuracy: 0.8474\n",
      "Epoch 10/10\n",
      "240/240 [==============================] - 620s 3s/step - loss: 0.3262 - accuracy: 0.8680 - val_loss: 0.3768 - val_accuracy: 0.8438\n"
     ]
    }
   ],
   "source": [
    "history = model.fit(X_train, y_train, validation_data=(X_val, y_val), epochs=epochs,\n",
    "                    validation_steps=validation_steps, batch_size=batch_size,\n",
    "                    callbacks=[es])"
   ]
  },
  {
   "cell_type": "code",
   "execution_count": 89,
   "metadata": {},
   "outputs": [
    {
     "name": "stdout",
     "output_type": "stream",
     "text": [
      "Model: \"sequential_7\"\n",
      "_________________________________________________________________\n",
      "Layer (type)                 Output Shape              Param #   \n",
      "=================================================================\n",
      "text_vectorization_1 (TextVe (None, None)              0         \n",
      "_________________________________________________________________\n",
      "embedding_7 (Embedding)      (None, None, 64)          64000     \n",
      "_________________________________________________________________\n",
      "bidirectional_7 (Bidirection (None, 128)               66048     \n",
      "_________________________________________________________________\n",
      "dense_9 (Dense)              (None, 1)                 129       \n",
      "=================================================================\n",
      "Total params: 130,177\n",
      "Trainable params: 130,177\n",
      "Non-trainable params: 0\n",
      "_________________________________________________________________\n",
      "None\n"
     ]
    }
   ],
   "source": [
    "print(model.summary())"
   ]
  },
  {
   "cell_type": "code",
   "execution_count": 90,
   "metadata": {},
   "outputs": [
    {
     "data": {
      "text/plain": [
       "(0.0, 0.7081782937049865)"
      ]
     },
     "execution_count": 90,
     "metadata": {},
     "output_type": "execute_result"
    },
    {
     "data": {
      "image/png": "[encoded data removed]",
      "text/plain": [
       "<Figure size 1152x576 with 2 Axes>"
      ]
     },
     "metadata": {
      "needs_background": "light"
     },
     "output_type": "display_data"
    }
   ],
   "source": [
    "plt.figure(figsize=(16, 8))\n",
    "plt.subplot(1, 2, 1)\n",
    "plot_graphs(history, 'accuracy')\n",
    "plt.ylim(None, 1)\n",
    "plt.subplot(1, 2, 2)\n",
    "plot_graphs(history, 'loss')\n",
    "plt.ylim(0, None)"
   ]
  },
  {
   "cell_type": "code",
   "execution_count": 91,
   "metadata": {},
   "outputs": [
    {
     "name": "stdout",
     "output_type": "stream",
     "text": [
      "150/150 [==============================] - 68s 431ms/step - loss: 0.3831 - accuracy: 0.8333\n",
      "Test Loss: 0.38311290740966797\n",
      "Test Accuracy: 0.8333333134651184\n"
     ]
    }
   ],
   "source": [
    "test_loss, test_acc = model.evaluate(X_test, y_test)\n",
    "\n",
    "print('Test Loss:', test_loss)\n",
    "print('Test Accuracy:', test_acc)"
   ]
  },
  {
   "cell_type": "code",
   "execution_count": 92,
   "metadata": {},
   "outputs": [],
   "source": [
    "predictions = model.predict(X_test)"
   ]
  },
  {
   "cell_type": "code",
   "execution_count": 94,
   "metadata": {},
   "outputs": [
    {
     "name": "stderr",
     "output_type": "stream",
     "text": [
      "WARNING:absl:Found untraced functions such as lstm_cell_22_layer_call_and_return_conditional_losses, lstm_cell_22_layer_call_fn, lstm_cell_23_layer_call_and_return_conditional_losses, lstm_cell_23_layer_call_fn, lstm_cell_22_layer_call_fn while saving (showing 5 of 10). These functions will not be directly callable after loading.\n"
     ]
    },
    {
     "name": "stdout",
     "output_type": "stream",
     "text": [
      "INFO:tensorflow:Assets written to: ./model/assets\n"
     ]
    },
    {
     "name": "stderr",
     "output_type": "stream",
     "text": [
      "INFO:tensorflow:Assets written to: ./model/assets\n"
     ]
    }
   ],
   "source": [
    "model.save('./model/')"
   ]
  }
 ],
 "metadata": {
  "kernelspec": {
   "display_name": "Python 3",
   "language": "python",
   "name": "python3"
  },
  "language_info": {
   "codemirror_mode": {
    "name": "ipython",
    "version": 3
   },
   "file_extension": ".py",
   "mimetype": "text/x-python",
   "name": "python",
   "nbconvert_exporter": "python",
   "pygments_lexer": "ipython3",
   "version": "3.8.5"
  }
 },
 "nbformat": 4,
 "nbformat_minor": 4
}

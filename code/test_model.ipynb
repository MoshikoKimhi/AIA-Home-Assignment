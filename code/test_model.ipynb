{
 "cells": [
  {
   "cell_type": "code",
   "execution_count": 2,
   "metadata": {},
   "outputs": [],
   "source": [
    "import tensorflow as tf"
   ]
  },
  {
   "cell_type": "code",
   "execution_count": 3,
   "metadata": {},
   "outputs": [],
   "source": [
    "# Define your path here...\n",
    "path = \"./test.txt\""
   ]
  },
  {
   "cell_type": "code",
   "execution_count": 4,
   "metadata": {},
   "outputs": [],
   "source": [
    "def load_model():\n",
    "    return tf.keras.models.load_model('./model/')\n",
    "\n",
    "def print_result(predictions):\n",
    "    print(\"The review is: \")\n",
    "    print (\"Positive\" if predictions > 0.5 else \"Negative\")\n",
    "    \n",
    "def load_file(path):\n",
    "    infile = open(path, encoding=\"utf8\")\n",
    "    text = infile.read()\n",
    "    infile.close()\n",
    "    return text"
   ]
  },
  {
   "cell_type": "code",
   "execution_count": 5,
   "metadata": {},
   "outputs": [
    {
     "name": "stdout",
     "output_type": "stream",
     "text": [
      "the worst movie i eve saw\n",
      "The result is: \n",
      "Negative\n"
     ]
    }
   ],
   "source": [
    "model = load_model()\n",
    "text = load_file(path)\n",
    "\n",
    "print(text)\n",
    "predictions = model.predict([text])\n",
    "print_result(predictions)"
   ]
  },
  {
   "cell_type": "code",
   "execution_count": null,
   "metadata": {},
   "outputs": [],
   "source": []
  }
 ],
 "metadata": {
  "kernelspec": {
   "display_name": "Python 3",
   "language": "python",
   "name": "python3"
  },
  "language_info": {
   "codemirror_mode": {
    "name": "ipython",
    "version": 3
   },
   "file_extension": ".py",
   "mimetype": "text/x-python",
   "name": "python",
   "nbconvert_exporter": "python",
   "pygments_lexer": "ipython3",
   "version": "3.8.5"
  }
 },
 "nbformat": 4,
 "nbformat_minor": 4
}
